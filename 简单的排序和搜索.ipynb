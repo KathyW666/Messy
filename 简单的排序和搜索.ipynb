{
 "cells": [
  {
   "cell_type": "code",
   "execution_count": 8,
   "metadata": {
    "collapsed": true
   },
   "outputs": [],
   "source": [
    "# 数组的查找"
   ]
  },
  {
   "cell_type": "code",
   "execution_count": 11,
   "metadata": {},
   "outputs": [
    {
     "name": "stdout",
     "output_type": "stream",
     "text": [
      "[1, 2, 3, 3, 4, 5, 6, 7, 8]\n",
      "[]\n"
     ]
    }
   ],
   "source": [
    "## 线性查找 平均时间复杂度：O(n)\n",
    "def linerSearch(a, target):\n",
    "    index = []\n",
    "    for i in range(len(a)):\n",
    "        if a[i] == target:\n",
    "            index.append(i)\n",
    "\n",
    "    return index\n",
    "\n",
    "    \n",
    "arr = [1,2,3,4,5,6,7,8,3]\n",
    "target = 10\n",
    "index = linerSearch(arr, target)\n",
    "print(index)"
   ]
  },
  {
   "cell_type": "code",
   "execution_count": 17,
   "metadata": {},
   "outputs": [
    {
     "name": "stdout",
     "output_type": "stream",
     "text": [
      "6\n"
     ]
    }
   ],
   "source": [
    "## 二分查找 平均时间复杂度：O(log2n)\n",
    "## 前提条件：数组中的元素必须已经排好序\n",
    "def BinarySearch(a, target):\n",
    "    a.sort()\n",
    "    low = 0\n",
    "    high = len(a) - 1\n",
    "    while high > low:\n",
    "        mid = int((high + low) / 2)\n",
    "        if target < a[mid]:\n",
    "            high = mid - 1\n",
    "        elif target == a[mid]:\n",
    "            return mid\n",
    "        else:\n",
    "            low = mid + 1\n",
    "    return -1\n",
    "            \n",
    "arr = [1,2,3,4,5,6,7,8,3]\n",
    "target = 6\n",
    "index = BinarySearch(arr, target)\n",
    "print(index)    "
   ]
  },
  {
   "cell_type": "code",
   "execution_count": null,
   "metadata": {
    "collapsed": true
   },
   "outputs": [],
   "source": [
    "# 数组的排序"
   ]
  },
  {
   "cell_type": "code",
   "execution_count": 2,
   "metadata": {},
   "outputs": [
    {
     "name": "stdout",
     "output_type": "stream",
     "text": [
      "[1, 2, 3, 3, 4, 5, 6, 7, 8]\n"
     ]
    }
   ],
   "source": [
    "## 选择排序 \n",
    "## 平均时间复杂度：O(n^2) 不稳定\n",
    "\n",
    "def SelectionSort(a):\n",
    "    for i in range(len(a)-1):\n",
    "        j = i + 1\n",
    "        minNum = a[i]\n",
    "        minIndex = i\n",
    "        while j<len(a):\n",
    "            if minNum > a[j]:\n",
    "                minNum = a[j]\n",
    "                minIndex = j\n",
    "            j+=1\n",
    "        if minIndex != i:\n",
    "            a[minIndex] = a[i]\n",
    "            a[i] = minNum\n",
    "    return a\n",
    "            \n",
    "                \n",
    "arr = [2,3,4,1,5,7,6,8,3]\n",
    "print(SelectionSort(arr))"
   ]
  },
  {
   "cell_type": "code",
   "execution_count": 4,
   "metadata": {},
   "outputs": [
    {
     "name": "stdout",
     "output_type": "stream",
     "text": [
      "[1, 2, 3, 3, 4, 5, 6, 7, 8]\n"
     ]
    }
   ],
   "source": [
    "## 插入排序 \n",
    "## 平均时间复杂度：O(n^2) 最好O(n) 稳定\n",
    "\n",
    "def InsertionSort(a):\n",
    "    for i in range(len(a)):\n",
    "        current = a[i]\n",
    "        n = i - 1\n",
    "        while n >= 0 and a[n] > current:\n",
    "            a[n+1] = a[n]\n",
    "            n -= 1\n",
    "        a[n+1] = current\n",
    "    return a\n",
    "\n",
    "arr = [2,3,4,1,5,7,6,8,3]\n",
    "print(SelectionSort(arr))\n",
    "            \n",
    "        \n",
    "            "
   ]
  },
  {
   "cell_type": "code",
   "execution_count": null,
   "metadata": {
    "collapsed": true
   },
   "outputs": [],
   "source": []
  }
 ],
 "metadata": {
  "kernelspec": {
   "display_name": "Python 3",
   "language": "python",
   "name": "python3"
  },
  "language_info": {
   "codemirror_mode": {
    "name": "ipython",
    "version": 3
   },
   "file_extension": ".py",
   "mimetype": "text/x-python",
   "name": "python",
   "nbconvert_exporter": "python",
   "pygments_lexer": "ipython3",
   "version": "3.6.3"
  }
 },
 "nbformat": 4,
 "nbformat_minor": 2
}
